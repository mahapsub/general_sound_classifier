{
 "cells": [
  {
   "cell_type": "code",
   "execution_count": 1,
   "metadata": {},
   "outputs": [
    {
     "name": "stderr",
     "output_type": "stream",
     "text": [
      "/anaconda3/lib/python3.6/site-packages/h5py/__init__.py:36: FutureWarning: Conversion of the second argument of issubdtype from `float` to `np.floating` is deprecated. In future, it will be treated as `np.float64 == np.dtype(float).type`.\n",
      "  from ._conv import register_converters as _register_converters\n"
     ]
    }
   ],
   "source": [
    "import tensorflow as tf\n",
    "import pandas as pd\n",
    "import numpy as np"
   ]
  },
  {
   "cell_type": "code",
   "execution_count": 88,
   "metadata": {},
   "outputs": [],
   "source": [
    "train_df = pd.read_csv('src/train.csv')\n",
    "test_df = pd.read_csv('src/sample_submission.csv')\n",
    "manually_verified = train_df.query('manually_verified == 1')"
   ]
  },
  {
   "cell_type": "code",
   "execution_count": 102,
   "metadata": {},
   "outputs": [
    {
     "data": {
      "text/plain": [
       "fname    9400\n",
       "label    9400\n",
       "dtype: int64"
      ]
     },
     "execution_count": 102,
     "metadata": {},
     "output_type": "execute_result"
    }
   ],
   "source": [
    "test_df.count()"
   ]
  },
  {
   "cell_type": "code",
   "execution_count": 94,
   "metadata": {},
   "outputs": [
    {
     "data": {
      "text/plain": [
       "array(['Saxophone', 'Glockenspiel', 'Cello', 'Knock',\n",
       "       'Gunshot_or_gunfire', 'Hi-hat', 'Laughter', 'Flute', 'Telephone',\n",
       "       'Bark', 'Scissors', 'Gong', 'Microwave_oven', 'Shatter',\n",
       "       'Harmonica', 'Bass_drum', 'Oboe', 'Bus', 'Tambourine',\n",
       "       'Keys_jangling', 'Electric_piano', 'Clarinet', 'Fireworks', 'Meow',\n",
       "       'Double_bass', 'Cough', 'Acoustic_guitar', 'Violin_or_fiddle',\n",
       "       'Snare_drum', 'Squeak', 'Finger_snapping', 'Writing', 'Trumpet',\n",
       "       'Drawer_open_or_close', 'Cowbell', 'Tearing', 'Fart', 'Chime',\n",
       "       'Burping_or_eructation', 'Computer_keyboard', 'Applause'],\n",
       "      dtype=object)"
      ]
     },
     "execution_count": 94,
     "metadata": {},
     "output_type": "execute_result"
    }
   ],
   "source": [
    "manually_verified.label.unique()"
   ]
  },
  {
   "cell_type": "code",
   "execution_count": 89,
   "metadata": {},
   "outputs": [],
   "source": [
    "def category_counter(npList, index=1):\n",
    "    unique, counts = np.unique(nplist[:,1], return_counts=True)\n",
    "    dict_of_sorted = dict(zip(unique,counts))\n",
    "    \n",
    "    return sorted(dict_of_sorted.items(), key=lambda k: k[1], reverse=True)"
   ]
  },
  {
   "cell_type": "code",
   "execution_count": 72,
   "metadata": {},
   "outputs": [],
   "source": [
    "cat_counts= category_counter(manually_verified.values)"
   ]
  },
  {
   "cell_type": "markdown",
   "metadata": {},
   "source": [
    "## List of Categories and Counts"
   ]
  },
  {
   "cell_type": "code",
   "execution_count": 74,
   "metadata": {
    "scrolled": false
   },
   "outputs": [
    {
     "data": {
      "text/plain": [
       "[('Saxophone', 256),\n",
       " ('Violin_or_fiddle', 250),\n",
       " ('Gunshot_or_gunfire', 145),\n",
       " ('Clarinet', 130),\n",
       " ('Flute', 128),\n",
       " ('Cello', 125),\n",
       " ('Telephone', 112),\n",
       " ('Acoustic_guitar', 105),\n",
       " ('Oboe', 99),\n",
       " ('Cowbell', 96),\n",
       " ('Double_bass', 92),\n",
       " ('Tambourine', 92),\n",
       " ('Knock', 90),\n",
       " ('Hi-hat', 89),\n",
       " ('Harmonica', 88),\n",
       " ('Laughter', 88),\n",
       " ('Trumpet', 86),\n",
       " ('Gong', 85),\n",
       " ('Finger_snapping', 77),\n",
       " ('Burping_or_eructation', 75),\n",
       " ('Fireworks', 75),\n",
       " ('Electric_piano', 74),\n",
       " ('Fart', 71),\n",
       " ('Glockenspiel', 70),\n",
       " ('Snare_drum', 70),\n",
       " ('Cough', 69),\n",
       " ('Meow', 69),\n",
       " ('Squeak', 69),\n",
       " ('Bark', 67),\n",
       " ('Bass_drum', 67),\n",
       " ('Drawer_open_or_close', 67),\n",
       " ('Microwave_oven', 67),\n",
       " ('Shatter', 67),\n",
       " ('Writing', 67),\n",
       " ('Chime', 66),\n",
       " ('Keys_jangling', 66),\n",
       " ('Tearing', 62),\n",
       " ('Applause', 61),\n",
       " ('Computer_keyboard', 60),\n",
       " ('Bus', 59),\n",
       " ('Scissors', 59)]"
      ]
     },
     "execution_count": 74,
     "metadata": {},
     "output_type": "execute_result"
    }
   ],
   "source": [
    "cat_counts"
   ]
  },
  {
   "cell_type": "markdown",
   "metadata": {},
   "source": [
    "This shows that the among the verified sound clips, the largest are the following \n",
    "1. Saxophone\n",
    "2. Violin\n",
    "3. Gunshot\n",
    "4. Clarinet\n",
    "5. Flute\n",
    "6. Cello"
   ]
  },
  {
   "cell_type": "code",
   "execution_count": 75,
   "metadata": {},
   "outputs": [],
   "source": [
    "unverified_df = train_df.query('manually_verified==0')"
   ]
  },
  {
   "cell_type": "code",
   "execution_count": 76,
   "metadata": {
    "scrolled": true
   },
   "outputs": [
    {
     "data": {
      "text/plain": [
       "[('Saxophone', 256),\n",
       " ('Violin_or_fiddle', 250),\n",
       " ('Gunshot_or_gunfire', 145),\n",
       " ('Clarinet', 130),\n",
       " ('Flute', 128),\n",
       " ('Cello', 125),\n",
       " ('Telephone', 112),\n",
       " ('Acoustic_guitar', 105),\n",
       " ('Oboe', 99),\n",
       " ('Cowbell', 96),\n",
       " ('Double_bass', 92),\n",
       " ('Tambourine', 92),\n",
       " ('Knock', 90),\n",
       " ('Hi-hat', 89),\n",
       " ('Harmonica', 88),\n",
       " ('Laughter', 88),\n",
       " ('Trumpet', 86),\n",
       " ('Gong', 85),\n",
       " ('Finger_snapping', 77),\n",
       " ('Burping_or_eructation', 75),\n",
       " ('Fireworks', 75),\n",
       " ('Electric_piano', 74),\n",
       " ('Fart', 71),\n",
       " ('Glockenspiel', 70),\n",
       " ('Snare_drum', 70),\n",
       " ('Cough', 69),\n",
       " ('Meow', 69),\n",
       " ('Squeak', 69),\n",
       " ('Bark', 67),\n",
       " ('Bass_drum', 67),\n",
       " ('Drawer_open_or_close', 67),\n",
       " ('Microwave_oven', 67),\n",
       " ('Shatter', 67),\n",
       " ('Writing', 67),\n",
       " ('Chime', 66),\n",
       " ('Keys_jangling', 66),\n",
       " ('Tearing', 62),\n",
       " ('Applause', 61),\n",
       " ('Computer_keyboard', 60),\n",
       " ('Bus', 59),\n",
       " ('Scissors', 59)]"
      ]
     },
     "execution_count": 76,
     "metadata": {},
     "output_type": "execute_result"
    }
   ],
   "source": [
    "category_counter(unverified_df.values)"
   ]
  },
  {
   "cell_type": "code",
   "execution_count": 103,
   "metadata": {
    "scrolled": true
   },
   "outputs": [
    {
     "data": {
      "text/plain": [
       "fname                3710\n",
       "label                3710\n",
       "manually_verified    3710\n",
       "dtype: int64"
      ]
     },
     "execution_count": 103,
     "metadata": {},
     "output_type": "execute_result"
    }
   ],
   "source": [
    "manually_verified.count()\n"
   ]
  },
  {
   "cell_type": "code",
   "execution_count": null,
   "metadata": {},
   "outputs": [],
   "source": []
  }
 ],
 "metadata": {
  "kernelspec": {
   "display_name": "Python 3",
   "language": "python",
   "name": "python3"
  },
  "language_info": {
   "codemirror_mode": {
    "name": "ipython",
    "version": 3
   },
   "file_extension": ".py",
   "mimetype": "text/x-python",
   "name": "python",
   "nbconvert_exporter": "python",
   "pygments_lexer": "ipython3",
   "version": "3.6.5"
  }
 },
 "nbformat": 4,
 "nbformat_minor": 2
}
